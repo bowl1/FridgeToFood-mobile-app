{
 "cells": [
  {
   "cell_type": "code",
   "execution_count": null,
   "id": "f1c6cda0-d13b-4423-9c3a-a80eb9519df8",
   "metadata": {},
   "outputs": [],
   "source": [
    "2+3"
   ]
  },
  {
   "cell_type": "code",
   "execution_count": null,
   "id": "db7eaecf-c821-47ff-9d36-adf08aa8f4ba",
   "metadata": {},
   "outputs": [],
   "source": [
    "print(2+3)"
   ]
  },
  {
   "cell_type": "code",
   "execution_count": null,
   "id": "6ee18e96-b509-402d-a550-ba226675d99f",
   "metadata": {},
   "outputs": [],
   "source": []
  }
 ],
 "metadata": {
  "kernelspec": {
   "display_name": "Python 3 (ipykernel)",
   "language": "python",
   "name": "python3"
  },
  "language_info": {
   "name": ""
  }
 },
 "nbformat": 4,
 "nbformat_minor": 5
}
